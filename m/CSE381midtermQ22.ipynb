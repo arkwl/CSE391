{
 "cells": [
  {
   "cell_type": "markdown",
   "metadata": {},
   "source": [
    "<h1><center>CSE391 programming for data science</center></h1>\n",
    "<h1><center>Midterm </center></h1>\n",
    "<h1><center>March 26th,2018 </center></h1>\n",
    "<h1><center>Part 2 </center></h1>"
   ]
  },
  {
   "cell_type": "markdown",
   "metadata": {},
   "source": [
    "Let $V_{n\\times d}$ be a matrix whose elements are all  positive. We would like to decompose $V$ into \n",
    "two matrices $W_{n \\times k}$ and $H_{k \\times d}$ such that both $W$ and $H$ are positive and $V \\approx W\\times H$ where $\\times$ denotes the matrix multiplication operation. The aim is to write a python function that accepts as input $V$ and outputs $W$ and $H$. This can be done using an iterative algorithm that updates the elements of $W$ and $H$ until it converges. Here are the update rules:\n",
    "\n",
    "1- Update rule for $h_{ij}$\n",
    "\n",
    "\n",
    "${\\displaystyle H_{[i,j]}^{n+1}\\leftarrow H_{[i,j]}^{n}{\\frac {((W^{n})^{T}V)_{[i,j]}}{((W^{n})^{T}W^{n}H^{n})_{[i,j]}}}}$\n",
    "\n",
    "\n",
    "\n",
    "\n",
    "2-  Update rule for $w_{ij}$\n",
    "\n",
    "\n",
    "${\\displaystyle W_{[i,j]}^{n+1}\\leftarrow W_{[i,j]}^{n}{\\frac {(V(H^{n+1})^{T})_{[i,j]}}{(W^n H^{n+1}(H^{n+1})^{T})_{[i,j]}}}}$\n",
    "\n",
    "\n",
    "\n",
    "The algoirthm works as follows:\n",
    "\n",
    "1. initialize  $H$ and $V$ with random values.\n",
    "2. use the update rule 1 to compute $H$\n",
    "3. use the update rule 2 to compute $W$\n",
    "4. check if the maximum number of iteration is reached\n",
    "\n",
    "The below script is a way to implement this algoritm.Fill in the locations indicated in the script to complete the code. This script contains three functions, one main function called CSE391_DecomposeFunction which calles the two other functions.\n"
   ]
  },
  {
   "cell_type": "code",
   "execution_count": 5,
   "metadata": {},
   "outputs": [],
   "source": [
    "import numpy as np\n",
    "\n",
    "\n",
    "\n",
    "def CSE391_updateH(V, W, H):\n",
    "    #Update rule for $H_{ij}$\n",
    "    \n",
    "    H_new = H * (W.T.dot(V) / W.T.dot(W).dot(H))\n",
    "    \n",
    "    return H_new\n",
    "\n",
    "def CSE391_updateW(V, W, H):\n",
    "    # Update rule for W_{ij}\n",
    "    \n",
    "    W_new = W * (V.dot(H.T) / W.dot(H).dot(H.T))\n",
    "    \n",
    "    return W_new\n",
    "\n",
    "\n",
    "\n",
    "\n",
    "def CSE391_DecomposeFunction(V, k, maxiter=5000):\n",
    "    ''' decomposes V into W and H\n",
    "        \n",
    "    Usage:\n",
    "        W, H = CSE391_DecomposeFunction(V, k)\n",
    "    Parameters:\n",
    "        V: a (n x d)-array containing n observations in the columns\n",
    "        k: number of components to extract\n",
    "        maxiter: maximum number of iterations\n",
    "    Returns:\n",
    "        W: (n x k)-array \n",
    "        H: (k x d)-array \n",
    "    '''\n",
    "    \n",
    "    n, d = V.shape\n",
    "    \n",
    "    W = np.random.randint(n * k , size=(n, k))\n",
    "    H = np.random.randint(k * d, size=(k, d))\n",
    "    \n",
    "    it_no = 0\n",
    "    \n",
    "    while  it_no <= maxiter:\n",
    "        H = CSE391_updateH(V, W, H)\n",
    "        W = CSE391_updateW(V, W, H)\n",
    "        it_no += 1\n",
    "    \n",
    "    return W, H\n"
   ]
  },
  {
   "cell_type": "markdown",
   "metadata": {},
   "source": [
    "Bonus : Now your code is complete.\n",
    "Decompose the  below matrix using the funcion \n",
    "CSE391_DecomposeFunction and print out $W$ and $H$."
   ]
  },
  {
   "cell_type": "code",
   "execution_count": 8,
   "metadata": {
    "collapsed": true
   },
   "outputs": [],
   "source": [
    "V = np.arange(0,200).reshape(20,10)"
   ]
  },
  {
   "cell_type": "code",
   "execution_count": 9,
   "metadata": {},
   "outputs": [
    {
     "data": {
      "text/plain": [
       "array([[   0.6347485 ,    2.412385  ,    2.64421834,    3.30134153,\n",
       "           3.88230219,    5.22783989,    5.91200669,    6.78731115,\n",
       "           8.04090254,    8.32652957],\n",
       "       [  10.00023516,   11.04459643,   11.91833088,   12.99764151,\n",
       "          14.0870727 ,   14.9174184 ,   15.99146631,   17.03280073,\n",
       "          18.11151265,   18.8980067 ],\n",
       "       [  20.00225795,   21.03498937,   21.93285726,   22.9972799 ,\n",
       "          24.06983761,   24.9322791 ,   25.99300019,   27.02698413,\n",
       "          28.0899189 ,   28.92006609],\n",
       "       [  30.00241912,   31.03271229,   31.94073763,   32.99729884,\n",
       "          34.06038636,   34.94007313,   35.99352208,   37.02356251,\n",
       "          38.07975533,   38.92948995],\n",
       "       [  39.99749644,   41.04327437,   41.93008019,   42.9985502 ,\n",
       "          44.07495811,   44.92909624,   45.99239357,   47.027822  ,\n",
       "          48.09848014,   48.9080857 ],\n",
       "       [  50.00111847,   51.02759508,   51.95036411,   52.99783055,\n",
       "          54.05111804,   54.94995899,   55.99465309,   57.01981565,\n",
       "          58.06703728,   58.9405021 ],\n",
       "       [  59.99943815,   61.02972275,   61.95037321,   62.99846032,\n",
       "          64.05174111,   64.94984716,   65.99462319,   67.01964785,\n",
       "          68.06839731,   68.93786867],\n",
       "       [  70.00450543,   71.01295964,   71.97431437,   72.99751655,\n",
       "          74.02126033,   74.97427807,   75.99707429,   77.00969618,\n",
       "          78.03120414,   78.97707946],\n",
       "       [  80.01562512,   80.97963746,   82.01915724,   82.99529505,\n",
       "          83.9642791 ,   85.01996959,   86.00159578,   86.99117486,\n",
       "          87.96029989,   89.05212548],\n",
       "       [  90.01253398,   90.97049035,   92.01990644,   92.99567917,\n",
       "          93.9698765 ,   95.02220346,   96.00318799,   96.99278612,\n",
       "          97.95801074,   99.0540513 ],\n",
       "       [  99.99950732,  101.01594523,  101.97527224,  102.99928047,\n",
       "         104.02240963,  104.97536786,  105.9975306 ,  107.00919687,\n",
       "         108.03283231,  108.97264978],\n",
       "       [ 109.99091552,  111.02344041,  111.96111209,  113.00057469,\n",
       "         114.05237445,  114.96114648,  115.9962809 ,  117.01700888,\n",
       "         118.05857373,  118.93866524],\n",
       "       [ 120.00061705,  121.0024671 ,  121.99446019,  122.99928113,\n",
       "         124.00340655,  124.99488823,  125.99956727,  127.00189457,\n",
       "         128.00507984,  128.99823145],\n",
       "       [ 129.99782281,  130.99154997,  132.00048581,  132.9990763 ,\n",
       "         134.00447017,  135.00220116,  136.00113903,  137.00155493,\n",
       "         137.99662654,  139.00467636],\n",
       "       [ 139.99097645,  141.02330634,  141.97015165,  143.00230889,\n",
       "         144.03605572,  144.96997555,  145.99741595,  147.01160494,\n",
       "         148.04535818,  148.95300081],\n",
       "       [ 150.00650004,  150.96982369,  152.03875361,  152.99806006,\n",
       "         153.95288659,  155.04045851,  156.00445126,  156.98453244,\n",
       "         157.93811235,  159.06584774],\n",
       "       [ 159.99820466,  160.98759851,  162.01722867,  163.00010179,\n",
       "         163.98417465,  165.01828491,  166.00221843,  166.99364508,\n",
       "         167.97445639,  169.02388543],\n",
       "       [ 169.99299914,  171.00415408,  171.99933461,  173.00222659,\n",
       "         174.00502182,  174.99964443,  176.00042929,  177.00012461,\n",
       "         178.00312927,  178.99297595],\n",
       "       [ 180.00866378,  180.95827649,  182.06159852,  182.99856671,\n",
       "         183.92302662,  185.0635304 ,  186.00683478,  186.97432661,\n",
       "         187.90451737,  189.09999368],\n",
       "       [ 189.99230731,  190.9987529 ,  192.0092807 ,  193.00285509,\n",
       "         193.99444534,  195.00980012,  196.00163506,  196.99604114,\n",
       "         197.98934326,  199.00554006]])"
      ]
     },
     "execution_count": 9,
     "metadata": {},
     "output_type": "execute_result"
    }
   ],
   "source": [
    "W, H = CSE391_DecomposeFunction(V, 5)\n",
    "W.dot(H)"
   ]
  },
  {
   "cell_type": "code",
   "execution_count": null,
   "metadata": {
    "collapsed": true
   },
   "outputs": [],
   "source": []
  }
 ],
 "metadata": {
  "kernelspec": {
   "display_name": "Python 3",
   "language": "python",
   "name": "python3"
  },
  "language_info": {
   "codemirror_mode": {
    "name": "ipython",
    "version": 3
   },
   "file_extension": ".py",
   "mimetype": "text/x-python",
   "name": "python",
   "nbconvert_exporter": "python",
   "pygments_lexer": "ipython3",
   "version": "3.6.3"
  }
 },
 "nbformat": 4,
 "nbformat_minor": 2
}
