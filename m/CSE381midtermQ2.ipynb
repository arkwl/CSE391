{
 "cells": [
  {
   "cell_type": "markdown",
   "metadata": {},
   "source": [
    "<h1><center>CSE391 programming for data science</center></h1>\n",
    "<h1><center>Midterm </center></h1>\n",
    "<h1><center>March 26th,2018 </center></h1>\n",
    "<h1><center>Part 2 </center></h1>"
   ]
  },
  {
   "cell_type": "markdown",
   "metadata": {},
   "source": [
    "Let $V_{n\\times d}$ be a matrix whose elements are all  positive. We would like to decompose $V$ into \n",
    "two matrices $W_{n \\times k}$ and $H_{k \\times d}$ such that both $W$ and $H$ are positive and $V \\approx W\\times H$ where $\\times$ denotes the matrix multiplication operation. The aim is to write a python function that accepts as input $V$ and outputs $W$ and $H$. This can be done using an iterative algorithm that updates the elements of $W$ and $H$ until it converges. Here are the update rules:\n",
    "\n",
    "1- Update rule for $h_{ij}$\n",
    "\n",
    "\n",
    "${\\displaystyle H_{[i,j]}^{n+1}\\leftarrow H_{[i,j]}^{n}{\\frac {((W^{n})^{T}V)_{[i,j]}}{((W^{n})^{T}W^{n}H^{n})_{[i,j]}}}}$\n",
    "\n",
    "\n",
    "\n",
    "\n",
    "2-  Update rule for $w_{ij}$\n",
    "\n",
    "\n",
    "${\\displaystyle W_{[i,j]}^{n+1}\\leftarrow W_{[i,j]}^{n}{\\frac {(V(H^{n+1})^{T})_{[i,j]}}{(W^n H^{n+1}(H^{n+1})^{T})_{[i,j]}}}}$\n",
    "\n",
    "\n",
    "\n",
    "The algoirthm works as follows:\n",
    "\n",
    "1. initialize  $H$ and $V$ with random values.\n",
    "2. use the update rule 1 to compute $H$\n",
    "3. use the update rule 2 to compute $W$\n",
    "4. check if the maximum number of iteration is reached\n",
    "\n",
    "The below script is a way to implement this algoritm.Fill in the locations indicated in the script to complete the code. This script contains three functions, one main function called CSE391_DecomposeFunction which calles the two other functions.\n"
   ]
  },
  {
   "cell_type": "code",
   "execution_count": 76,
   "metadata": {},
   "outputs": [],
   "source": [
    "import numpy as np\n",
    "\n",
    "\n",
    "\n",
    "def CSE391_updateH(V, W, H):\n",
    "    #Update rule for $H_{ij}$\n",
    "    top = W.T.dot(V)\n",
    "    H_new = H * (top) / W.T.dot(W).dot(H)\n",
    "    \n",
    "    return H_new\n",
    "\n",
    "def CSE391_updateW(V, W, H):\n",
    "    # Update rule for W_{ij}\n",
    "    \n",
    "    W_new = W * (V.dot(H.T) / W.dot(H).dot(H.T))\n",
    "    \n",
    "    return W_new\n",
    "\n",
    "\n",
    "\n",
    "\n",
    "def CSE391_DecomposeFunction(V, k, maxiter=5000):\n",
    "    ''' decomposes V into W and H\n",
    "        \n",
    "    Usage:\n",
    "        W, H = CSE391_DecomposeFunction(V, k)\n",
    "    Parameters:\n",
    "        V: a (n x d)-array containing n observations in the columns\n",
    "        k: number of components to extract\n",
    "        maxiter: maximum number of iterations\n",
    "    Returns:\n",
    "        W: (n x k)-array \n",
    "        H: (k x d)-array \n",
    "    '''\n",
    "    \n",
    "    n, d = V.shape\n",
    "    \n",
    "    W = np.random.randint(n * k , size=(n, k))\n",
    "    H = np.random.randint(k * d, size=(k, d))\n",
    "    \n",
    "    it_no = 0\n",
    "    \n",
    "    while  it_no <= maxiter:\n",
    "        H = CSE391_updateH(V, W, H)\n",
    "        W = CSE391_updateW(V, W, H)\n",
    "        it_no += 1\n",
    "    \n",
    "    return W, H\n"
   ]
  },
  {
   "cell_type": "markdown",
   "metadata": {},
   "source": [
    "Bonus : Now your code is complete.\n",
    "Decompose the  below matrix using the funcion \n",
    "CSE391_DecomposeFunction and print out $W$ and $H$."
   ]
  },
  {
   "cell_type": "code",
   "execution_count": 77,
   "metadata": {},
   "outputs": [
    {
     "data": {
      "text/plain": [
       "array([[   1.81639219,    2.66597507,    3.3016056 ,    4.14027017,\n",
       "           4.24721562,    5.46311508,    5.83583472,    6.4325696 ,\n",
       "           7.07498125,    7.82616819],\n",
       "       [  10.07904913,   10.91786626,   11.90875743,   12.831082  ,\n",
       "          14.07709517,   14.86150252,   16.00466871,   17.05708816,\n",
       "          18.0925482 ,   19.08403772],\n",
       "       [  20.04162064,   20.98828858,   21.97140798,   22.97237418,\n",
       "          23.96205701,   24.98891418,   25.9929127 ,   27.00615082,\n",
       "          28.02235106,   29.04312402],\n",
       "       [  30.03972571,   30.99055006,   31.97401765,   32.97600309,\n",
       "          33.9619161 ,   34.99128809,   35.99300977,   37.00514749,\n",
       "          38.02049683,   39.0410239 ],\n",
       "       [  40.03210821,   40.99043976,   41.97710754,   42.97881513,\n",
       "          43.96874451,   44.99256556,   45.99494856,   47.00556198,\n",
       "          48.01871009,   49.0358753 ],\n",
       "       [  50.03034309,   50.99030091,   51.97759444,   52.97889587,\n",
       "          53.97049179,   54.9922431 ,   55.99538848,   57.00594341,\n",
       "          58.01889418,   59.03559637],\n",
       "       [  60.02388802,   60.99271984,   61.98278827,   62.98440216,\n",
       "          63.97621192,   64.99498363,   65.99642218,   67.00434985,\n",
       "          68.01423122,   69.02729461],\n",
       "       [  70.02267552,   70.99038868,   71.98064371,   72.98130961,\n",
       "          73.97726379,   74.99278795,   75.99705802,   77.00633088,\n",
       "          78.0173838 ,   79.03105679],\n",
       "       [  80.01667824,   80.99309574,   81.98592687,   82.98692592,\n",
       "          83.98259861,   84.99551902,   85.99785244,   87.00445128,\n",
       "          88.01243696,   89.02256167],\n",
       "       [  90.01120758,   90.99254988,   91.98734256,   92.98796646,\n",
       "          93.9869    ,   94.9956151 ,   95.99906293,   97.00510472,\n",
       "          98.01209994,   99.02028868],\n",
       "       [ 100.00890697,  100.99435285,  101.9902596 ,  102.99081942,\n",
       "         103.98957097,  104.9967794 ,  105.99920726,  107.00382229,\n",
       "         108.00923126,  109.01576946],\n",
       "       [ 110.00666239,  110.99372075,  111.99048731,  112.99046879,\n",
       "         113.99185834,  114.99614921,  115.99979251,  117.0044273 ,\n",
       "         118.00962636,  119.01552124],\n",
       "       [ 120.00045166,  121.009076  ,  122.00895668,  123.01216836,\n",
       "         123.99731847,  125.00761293,  125.99778776,  126.99287366,\n",
       "         127.98870138,  128.98657623],\n",
       "       [ 129.99928679,  131.00731864,  132.00765653,  133.01002208,\n",
       "         133.99884104,  135.00606393,  135.99838363,  136.99423557,\n",
       "         137.99062839,  138.98870054],\n",
       "       [ 139.99392824,  140.98877402,  141.98989637,  142.98769738,\n",
       "         144.00233638,  144.99307193,  146.0033444 ,  147.00888734,\n",
       "         148.01378589,  149.01650298],\n",
       "       [ 149.99045544,  151.00447364,  152.00809131,  153.0090497 ,\n",
       "         154.00657074,  155.00454334,  156.0007851 ,  156.99669663,\n",
       "         157.99227773,  158.98768109],\n",
       "       [ 159.98089159,  160.99253843,  161.99892675,  162.9969847 ,\n",
       "         164.01339439,  164.9972042 ,  166.00527054,  167.00632959,\n",
       "         168.00582796,  169.00163822],\n",
       "       [ 169.98948983,  171.01368714,  172.01816327,  173.02043118,\n",
       "         174.0083676 ,  175.0101235 ,  175.9988387 ,  176.98963058,\n",
       "         177.98042006,  178.97252787],\n",
       "       [ 179.97918468,  181.00294977,  182.01085993,  183.010307  ,\n",
       "         184.01670385,  185.00381928,  186.00337734,  186.99825761,\n",
       "         187.99178567,  188.98312536],\n",
       "       [ 189.97655271,  190.9945102 ,  192.0029441 ,  193.00006994,\n",
       "         194.0189005 ,  194.99772418,  196.00572694,  197.00497417,\n",
       "         198.00229201,  198.99570155]])"
      ]
     },
     "execution_count": 77,
     "metadata": {},
     "output_type": "execute_result"
    }
   ],
   "source": [
    "V = np.arange(0,200).reshape(20,10)\n",
    "H, W = CSE391_DecomposeFunction(V, 5)\n",
    "np.dot(H, W)"
   ]
  },
  {
   "cell_type": "code",
   "execution_count": null,
   "metadata": {
    "collapsed": true
   },
   "outputs": [],
   "source": []
  },
  {
   "cell_type": "code",
   "execution_count": null,
   "metadata": {
    "collapsed": true
   },
   "outputs": [],
   "source": []
  }
 ],
 "metadata": {
  "kernelspec": {
   "display_name": "Python 3",
   "language": "python",
   "name": "python3"
  },
  "language_info": {
   "codemirror_mode": {
    "name": "ipython",
    "version": 3
   },
   "file_extension": ".py",
   "mimetype": "text/x-python",
   "name": "python",
   "nbconvert_exporter": "python",
   "pygments_lexer": "ipython3",
   "version": "3.6.3"
  }
 },
 "nbformat": 4,
 "nbformat_minor": 2
}
